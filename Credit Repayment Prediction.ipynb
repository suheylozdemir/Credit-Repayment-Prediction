{
 "cells": [
  {
   "cell_type": "markdown",
   "id": "434645d1-0884-4179-99a3-1658e5328775",
   "metadata": {},
   "source": [
    "## Credit Repayment Prediction\n",
    "\n",
    "\n"
   ]
  },
  {
   "cell_type": "markdown",
   "id": "660beab3-3d0d-456d-b278-1e51c4027e47",
   "metadata": {},
   "source": [
    "This notebook predicts whether a credit card user will repay their credit next month using a machine learning model. It includes data cleaning, model training, and a graphical user interface (GUI) for user input."
   ]
  },
  {
   "cell_type": "code",
   "execution_count": 2,
   "id": "d55069e5-c820-4976-a8d6-9cca8cbbff12",
   "metadata": {},
   "outputs": [],
   "source": [
    "import pandas as pd\n",
    "from sklearn.model_selection import train_test_split\n",
    "from sklearn.preprocessing import StandardScaler\n",
    "from imblearn.over_sampling import SMOTE, RandomOverSampler\n",
    "from xgboost import XGBClassifier\n",
    "from sklearn.metrics import accuracy_score, classification_report, confusion_matrix\n",
    "import matplotlib.pyplot as plt\n",
    "import seaborn as sns\n",
    "import tkinter as tk\n",
    "from tkinter import messagebox\n"
   ]
  },
  {
   "cell_type": "markdown",
   "id": "ee581496-12ef-498d-b8c5-9a03ce104eb3",
   "metadata": {},
   "source": [
    "## Load, Clean, and Balance the Dataset\n",
    "\n",
    "This function loads the dataset, cleans negative values, and balances the data using SMOTE and RandomOverSampler techniques.\n"
   ]
  },
  {
   "cell_type": "code",
   "execution_count": 3,
   "id": "e2d6dc4e-3f19-4eef-95a3-f90db1220e3c",
   "metadata": {},
   "outputs": [],
   "source": [
    "def load_clean_and_balance_data(file_path):\n",
    "    df = pd.read_csv(file_path)\n",
    "    \n",
    "    # Remove negative values\n",
    "    for column in ['BILL_AMT1', 'BILL_AMT2', 'BILL_AMT3', 'BILL_AMT4', 'BILL_AMT5', 'BILL_AMT6',\n",
    "                   'PAY_AMT1', 'PAY_AMT2', 'PAY_AMT3', 'PAY_AMT4', 'PAY_AMT5', 'PAY_AMT6']:\n",
    "        df = df[df[column] >= 0]\n",
    "    \n",
    "    # Convert categorical variables to numerical\n",
    "    df = pd.get_dummies(df, columns=['SEX', 'EDUCATION', 'MARRIAGE'], drop_first=True)\n",
    "    \n",
    "    # Separate target variable and features\n",
    "    X = df.drop('default.payment.next.month', axis=1)\n",
    "    y = df['default.payment.next.month']\n",
    "    \n",
    "    # Split the dataset into training and testing sets\n",
    "    X_train, X_test, y_train, y_test = train_test_split(X, y, test_size=0.2, random_state=42)\n",
    "    \n",
    "    # Balance the dataset using SMOTE and RandomOverSampler\n",
    "    smote = SMOTE(random_state=42)\n",
    "    ros = RandomOverSampler(random_state=42)\n",
    "    X_train_balanced, y_train_balanced = smote.fit_resample(X_train, y_train)\n",
    "    X_train_balanced, y_train_balanced = ros.fit_resample(X_train_balanced, y_train_balanced)\n",
    "    \n",
    "    return X_train_balanced, X_test, y_train_balanced, y_test, X.columns  # Return column order\n"
   ]
  },
  {
   "cell_type": "markdown",
   "id": "dfc91868-06e6-4ab3-8696-d97309fe44b8",
   "metadata": {},
   "source": [
    "## Train and Evaluate the Model\n",
    "\n",
    "This function scales the data, trains an XGBoost model, and evaluates its performance.\n"
   ]
  },
  {
   "cell_type": "code",
   "execution_count": 4,
   "id": "0b4d0396-c9a2-489a-93e8-1dfd6d05cfad",
   "metadata": {},
   "outputs": [],
   "source": [
    "def train_and_evaluate_model(X_train, y_train, X_test, y_test):\n",
    "    scaler = StandardScaler()\n",
    "    X_train_scaled = scaler.fit_transform(X_train)\n",
    "    X_test_scaled = scaler.transform(X_test)\n",
    "    \n",
    "    # XGBoost Model\n",
    "    model = XGBClassifier(random_state=42, scale_pos_weight=len(y_train) / sum(y_train))\n",
    "    model.fit(X_train_scaled, y_train)\n",
    "    \n",
    "    return model, scaler\n"
   ]
  },
  {
   "cell_type": "markdown",
   "id": "2dc8be3b-affc-4b0e-877b-45c7fa8f3976",
   "metadata": {},
   "source": [
    "## Create the GUI\n",
    "\n",
    "This function sets up a graphical user interface (GUI) where users can input their data and get a prediction.\n"
   ]
  },
  {
   "cell_type": "code",
   "execution_count": 5,
   "id": "fd69f633-a5f1-4f75-83d3-067217ddd556",
   "metadata": {},
   "outputs": [],
   "source": [
    "def create_gui(model, scaler, X_train_columns):\n",
    "    root = tk.Tk()\n",
    "    root.title(\"Credit Repayment Prediction\")\n",
    "\n",
    "    def predict():\n",
    "        try:\n",
    "            # Get inputs and validate them\n",
    "            credit_limit = float(credit_limit_entry.get().strip())\n",
    "            age = float(age_entry.get().strip())\n",
    "            pay_status_str = pay_status_var.get()\n",
    "            pay_status_num = pay_status_choices[pay_status_str]\n",
    "            gender = gender_var.get()\n",
    "            education = education_var.get()\n",
    "            marriage = marriage_var.get()\n",
    "\n",
    "            # Set dummy variables for gender\n",
    "            if gender == \"Male\":\n",
    "                input_data = {'SEX_2': 0}  # Male corresponds to SEX_2 = 0\n",
    "            else:\n",
    "                input_data = {'SEX_2': 1}  # Female corresponds to SEX_2 = 1\n",
    "\n",
    "            # Set dummy variables for education\n",
    "            education_mapping = {\n",
    "                'Graduate School': '1',\n",
    "                'University': '2',\n",
    "                'High School': '3',\n",
    "                'Others': '4'\n",
    "            }\n",
    "            education_value = education_mapping[education]\n",
    "            input_data[f'EDUCATION_{education_value}'] = 1\n",
    "            for i in range(1, 7):\n",
    "                if f'EDUCATION_{i}' not in input_data:\n",
    "                    input_data[f'EDUCATION_{i}'] = 0\n",
    "\n",
    "            # Set dummy variables for marital status\n",
    "            marriage_mapping = {\n",
    "                'Married': '1',\n",
    "                'Single': '2',\n",
    "                'Others': '3'\n",
    "            }\n",
    "            marriage_value = marriage_mapping[marriage]\n",
    "            input_data[f'MARRIAGE_{marriage_value}'] = 1\n",
    "            for i in range(1, 4):\n",
    "                if f'MARRIAGE_{i}' not in input_data:\n",
    "                    input_data[f'MARRIAGE_{i}'] = 0\n",
    "\n",
    "            # Other inputs\n",
    "            input_data['LIMIT_BAL'] = credit_limit\n",
    "            input_data['AGE'] = age\n",
    "            input_data['PAY_0'] = pay_status_num\n",
    "\n",
    "            # Set all other columns to zero if they are not in the input\n",
    "            for col in X_train_columns:\n",
    "                if col not in input_data:\n",
    "                    input_data[col] = 0\n",
    "\n",
    "            # Create DataFrame while maintaining column order\n",
    "            input_df = pd.DataFrame([input_data], columns=X_train_columns)\n",
    "            print(f\"Input Data Prepared: {input_df}\")  # Debugging\n",
    "\n",
    "            input_df_scaled = scaler.transform(input_df)\n",
    "            result = model.predict(input_df_scaled)\n",
    "            message = \"Prediction: Will repay\" if result == 0 else \"Prediction: Will not repay\"\n",
    "            messagebox.showinfo(\"Result\", message)\n",
    "        except ValueError as e:\n",
    "            print(f\"ValueError: {e}\")  # Debugging\n",
    "            messagebox.showerror(\"Error\", \"Please enter valid numbers for all fields.\")\n",
    "        except KeyError as e:\n",
    "            print(f\"KeyError: {e}\")  # Debugging\n",
    "            messagebox.showerror(\"Error\", f\"Key Error: {e}\")\n",
    "        except tk.TclError as e:\n",
    "            print(f\"TclError: {e}\")  # Debugging\n",
    "            messagebox.showerror(\"Error\", \"Please select an option for all list boxes.\")\n",
    "        except Exception as e:\n",
    "            print(f\"Exception: {e}\")  # Debugging\n",
    "            messagebox.showerror(\"Error\", str(e))\n",
    "\n",
    "    # Input fields\n",
    "    tk.Label(root, text=\"Credit Limit\").grid(row=0, column=0)\n",
    "    credit_limit_entry = tk.Entry(root)\n",
    "    credit_limit_entry.grid(row=0, column=1)\n",
    "\n",
    "    tk.Label(root, text=\"Age\").grid(row=1, column=0)\n",
    "    age_entry = tk.Entry(root)\n",
    "    age_entry.grid(row=1, column=1)\n",
    "\n",
    "    # Dropdown for gender\n",
    "    tk.Label(root, text=\"Gender\").grid(row=2, column=0)\n",
    "    gender_var = tk.StringVar(root)\n",
    "    gender_choices = ['Male', 'Female']\n",
    "    gender_var.set('Male')\n",
    "    tk.OptionMenu(root, gender_var, *gender_choices).grid(row=2, column=1)\n",
    "\n",
    "    # Dropdown for education\n",
    "    tk.Label(root, text=\"Education\").grid(row=3, column=0)\n",
    "    education_var = tk.StringVar(root)\n",
    "    education_choices = ['Graduate School', 'University', 'High School', 'Others']\n",
    "    education_var.set('University')\n",
    "    tk.OptionMenu(root, education_var, *education_choices).grid(row=3, column=1)\n",
    "\n",
    "    # Dropdown for marital status\n",
    "    tk.Label(root, text=\"Marital Status\").grid(row=4, column=0)\n",
    "    marriage_var = tk.StringVar(root)\n",
    "    marriage_choices = ['Married', 'Single', 'Others']\n",
    "    marriage_var.set('Single')\n",
    "    tk.OptionMenu(root, marriage_var, *marriage_choices).grid(row=4, column=1)\n",
    "\n",
    "    # Dropdown for repayment status\n",
    "    pay_status_var = tk.StringVar(root)\n",
    "    pay_status_choices = {\n",
    "        'Pay Duly': -1,\n",
    "        'No Consumption': 0,\n",
    "        'Delay 1 month': 1,\n",
    "        'Delay 2 months': 2,\n",
    "        'Delay 3 months': 3\n",
    "    }\n",
    "    pay_status_var.set('Pay Duly')\n",
    "    tk.Label(root, text=\"Repayment Status Month 1\").grid(row=5, column=0)\n",
    "    tk.OptionMenu(root, pay_status_var, *pay_status_choices.keys()).grid(row=5, column=1)\n",
    "\n",
    "    tk.Button(root, text=\"Predict\", command=predict).grid(row=6, column=0, columnspan=2)\n",
    "    root.mainloop()\n"
   ]
  },
  {
   "cell_type": "markdown",
   "id": "e881dbb1-8542-48ef-bc5b-d60abf53f7ca",
   "metadata": {},
   "source": [
    "## Main Execution Flow\n",
    "\n",
    "Load the dataset, train the model, and launch the GUI.\n"
   ]
  },
  {
   "cell_type": "code",
   "execution_count": 7,
   "id": "30b19f00-8f25-4b81-80bd-0aa66ba1e5a9",
   "metadata": {},
   "outputs": [],
   "source": [
    "file_path = 'UCI_Credit_Card.csv'\n",
    "X_train_balanced, X_test, y_train_balanced, y_test, X_train_columns = load_clean_and_balance_data(file_path)\n",
    "\n",
    "# Train and evaluate the model\n",
    "model, scaler = train_and_evaluate_model(X_train_balanced, y_train_balanced, X_test, y_test)\n",
    "\n",
    "# Launch the GUI\n",
    "create_gui(model, scaler, X_train_columns)\n"
   ]
  },
  {
   "cell_type": "markdown",
   "id": "832cd6b2-f376-4c6d-8ca9-d77f413ebe38",
   "metadata": {},
   "source": [
    "## Conclusion\n",
    "\n",
    "This notebook provided a complete workflow for predicting credit repayment using machine learning. We loaded, cleaned, and balanced the dataset, trained an XGBoost model, and created a user-friendly graphical interface for making predictions.\n"
   ]
  },
  {
   "cell_type": "markdown",
   "id": "036d389d-995b-4317-b604-80b806255f61",
   "metadata": {},
   "source": [
    "---\n",
    "<p style=\"text-align: left; font-size: 18px; font-style: italic;\">Suheyl Ozdemir</p>\n"
   ]
  }
 ],
 "metadata": {
  "kernelspec": {
   "display_name": "Python 3 (ipykernel)",
   "language": "python",
   "name": "python3"
  },
  "language_info": {
   "codemirror_mode": {
    "name": "ipython",
    "version": 3
   },
   "file_extension": ".py",
   "mimetype": "text/x-python",
   "name": "python",
   "nbconvert_exporter": "python",
   "pygments_lexer": "ipython3",
   "version": "3.11.8"
  }
 },
 "nbformat": 4,
 "nbformat_minor": 5
}
